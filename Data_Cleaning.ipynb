{
 "cells": [
  {
   "cell_type": "code",
   "execution_count": 1,
   "id": "eb7648ea-9e57-4186-9e5b-2d14acf7e4c2",
   "metadata": {},
   "outputs": [],
   "source": [
    "import pyarrow.parquet as pq\n",
    "import pandas as pd\n",
    "import matplotlib.pyplot as plt\n",
    "\n",
    "pd.options.mode.chained_assignment = None  # default='warn'"
   ]
  },
  {
   "cell_type": "code",
   "execution_count": 2,
   "id": "4c330ae7-cf07-4e4d-9cc5-9d41f8de2e74",
   "metadata": {},
   "outputs": [],
   "source": [
    "trips = pq.read_table('./Data/yellow_tripdata_2021-06.parquet')\n",
    "trips = trips.to_pandas()\n",
    "trips.dropna(inplace = True)\n",
    "\n",
    "# data cleaning\n",
    "trips = trips.query('passenger_count > 0.0 and trip_distance > 0.0 and trip_distance < 100 and total_amount > 0.0')\n",
    "trips = trips.query('tpep_pickup_datetime >= \"2021-06-01\" and tpep_pickup_datetime < \"2021-07-01\"')"
   ]
  },
  {
   "cell_type": "code",
   "execution_count": 3,
   "id": "733596ae-d273-418d-8cc0-866a1f60894c",
   "metadata": {},
   "outputs": [],
   "source": [
    "# add boroughs\n",
    "taxi_df = pd.read_csv(\"./Data/taxi_zone_lookup.csv\", usecols = [0,1,2])\n",
    "\n",
    "PU_map = taxi_df.rename(columns = {'LocationID':'PULocationID', 'Borough':'PU_borough', 'Zone':'PU_zone'})\n",
    "DO_map = taxi_df.rename(columns = {'LocationID':'DOLocationID', 'Borough':'DO_borough', 'Zone':'DO_zone'})\n",
    "trips = trips.join(PU_map.set_index('PULocationID'), on='PULocationID')\n",
    "trips = trips.join(DO_map.set_index('DOLocationID'), on='DOLocationID')\n",
    "trips = trips.query('PU_borough == \"Manhattan\" and DO_borough == \"Manhattan\"')\n",
    "trips = trips.drop(['PU_borough', 'DO_borough', 'PULocationID', 'DOLocationID'], axis = 1)\n",
    "\n",
    "trips['From_To'] = trips['PU_zone'] + \" - \" + trips['DO_zone']\n",
    "\n",
    "# add tip percentage and buckets\n",
    "trips[\"tip_pct\"] = trips[\"tip_amount\"] / trips[\"total_amount\"]\n",
    "trips[\"tip_bin\"] = pd.cut(trips.tip_pct, \n",
    "                       bins = [0.0, 0.10, 0.2, 0.5, 1.0], \n",
    "                       labels = [\"[0%, 10%]\", \"(10%, 20%]\", \"(20%, 50%]\", \"(50%, 100%]\"], \n",
    "                       include_lowest = True)\n"
   ]
  },
  {
   "cell_type": "code",
   "execution_count": 4,
   "id": "5c53f369-4b08-4a15-a6b1-b820278ebf27",
   "metadata": {},
   "outputs": [
    {
     "name": "stderr",
     "output_type": "stream",
     "text": [
      "/var/folders/x6/q38n8vvn4438v5128825zdl40000gn/T/ipykernel_4977/3135072809.py:4: UserWarning: Could not infer format, so each element will be parsed individually, falling back to `dateutil`. To ensure parsing is consistent and as-expected, please specify a format.\n",
      "  weather = pd.read_csv(\"./Data/2021NYCWeather.csv\",\n"
     ]
    }
   ],
   "source": [
    "# add weather data\n",
    "trips['Date'] = pd.to_datetime(trips['tpep_pickup_datetime']).dt.date\n",
    "\n",
    "weather = pd.read_csv(\"./Data/2021NYCWeather.csv\", \n",
    "                      parse_dates=[0],\n",
    "                      usecols = [0, 2, 5, 8, 11, 14, 16], \n",
    "                      dtype = {'avg_temp':'float64', \n",
    "                               'avg_dew_pt':'float64', \n",
    "                               'avg_humidity':'float64',\n",
    "                               'avg_wind_speed':'float64',\n",
    "                               'avg_pressure':'float64',\n",
    "                               'total_precipitation':'float64'})\n",
    "weather['Date'] = pd.to_datetime(weather['Date']).dt.date\n",
    "\n",
    "trips = trips.join(weather.set_index('Date'), on = \"Date\")\n",
    "trips = trips.drop(['Date'], axis = 1)"
   ]
  },
  {
   "cell_type": "code",
   "execution_count": 5,
   "id": "f817afcb-433a-461a-bd58-7e022f897594",
   "metadata": {},
   "outputs": [],
   "source": [
    "# write to parquet file\n",
    "trips.iloc[:, [0, 17, 18, 19, 1, 2, 3, 4, 5, 6, 7, 8, 9, 10, 11, 20, 21, 12, 13, 14, 15, 16, 22, 23, 24, 25, 26, 27]].to_parquet('./Data/cleaned_taxi_data.parquet')"
   ]
  },
  {
   "cell_type": "code",
   "execution_count": 6,
   "id": "ff37e6df-1027-484f-8d9a-b1d0e6dca0cd",
   "metadata": {},
   "outputs": [
    {
     "data": {
      "text/plain": [
       "VendorID                       category\n",
       "PU_zone                  string[python]\n",
       "DO_zone                  string[python]\n",
       "From_To                  string[python]\n",
       "tpep_pickup_datetime     datetime64[ns]\n",
       "tpep_dropoff_datetime    datetime64[ns]\n",
       "passenger_count                   int64\n",
       "trip_distance                   float64\n",
       "RatecodeID                     category\n",
       "store_and_fwd_flag                 bool\n",
       "payment_type                   category\n",
       "fare_amount                     float64\n",
       "extra                           float64\n",
       "mta_tax                         float64\n",
       "tip_amount                      float64\n",
       "tip_pct                         float64\n",
       "tip_bin                        category\n",
       "tolls_amount                    float64\n",
       "improvement_surcharge           float64\n",
       "total_amount                    float64\n",
       "congestion_surcharge            float64\n",
       "airport_fee                     float64\n",
       "avg_temp                        float64\n",
       "avg_dew_pt                      float64\n",
       "avg_humidity                    float64\n",
       "avg_wind_speed                  float64\n",
       "avg_pressure                    float64\n",
       "total_precipitation             float64\n",
       "dtype: object"
      ]
     },
     "execution_count": 6,
     "metadata": {},
     "output_type": "execute_result"
    }
   ],
   "source": [
    "# how to open parquet file\n",
    "temp = pq.read_table('./Data/cleaned_taxi_data.parquet')\n",
    "temp = temp.to_pandas()\n",
    "\n",
    "temp = temp.astype({'VendorID':'category',\n",
    "                    'RatecodeID':'category', \n",
    "                    'store_and_fwd_flag':'bool',\n",
    "                    'payment_type':'category', \n",
    "                    'passenger_count':'int64', \n",
    "                    'PU_zone':'string',\n",
    "                    'DO_zone':'string',\n",
    "                    'From_To':'string'\n",
    "                   })\n",
    "\n",
    "temp.dtypes"
   ]
  }
 ],
 "metadata": {
  "kernelspec": {
   "display_name": "Python 3 (ipykernel)",
   "language": "python",
   "name": "python3"
  },
  "language_info": {
   "codemirror_mode": {
    "name": "ipython",
    "version": 3
   },
   "file_extension": ".py",
   "mimetype": "text/x-python",
   "name": "python",
   "nbconvert_exporter": "python",
   "pygments_lexer": "ipython3",
   "version": "3.11.5"
  }
 },
 "nbformat": 4,
 "nbformat_minor": 5
}
