{
 "cells": [
  {
   "cell_type": "code",
   "execution_count": 2,
   "id": "eb7648ea-9e57-4186-9e5b-2d14acf7e4c2",
   "metadata": {},
   "outputs": [],
   "source": [
    "import pyarrow.parquet as pq\n",
    "import pandas as pd\n",
    "import matplotlib.pyplot as plt\n",
    "\n",
    "pd.options.mode.chained_assignment = None  # default='warn'\n",
    "trip_data_file_path = './Data/yellow_tripdata_2021-06.parquet'\n"
   ]
  },
  {
   "cell_type": "code",
   "execution_count": 2,
   "id": "4c330ae7-cf07-4e4d-9cc5-9d41f8de2e74",
   "metadata": {},
   "outputs": [],
   "source": [
    "trips = pq.read_table(trip_data_file_path)\n",
    "trips = trips.to_pandas()\n",
    "trips.dropna(inplace = True)\n",
    "\n",
    "# data cleaning\n",
    "trips = trips.query('passenger_count > 0.0 and trip_distance > 0.0 and trip_distance < 100 and total_amount > 0.0 and RatecodeID < 99')\n",
    "trips = trips.query('tpep_pickup_datetime >= \"2021-06-01\" and tpep_pickup_datetime <= \"2021-06-30 23:59:59\"')\n",
    "trips['store_and_fwd_flag'].loc[trips['store_and_fwd_flag'] == 'N'] = 0\n",
    "trips['store_and_fwd_flag'].loc[trips['store_and_fwd_flag'] == 'Y'] = 1\n",
    "\n",
    "manhattan_zones = [4, 12, 13, 24, 41, 42, 43, 45, 48, 50, 68, 74, 75, 79, 87, 88, 90, 100, 103, 104, 105, 107, 113, 114, 116, 120, 125, 127, 128, 137, 140, 141, 142, 143, 144, 148, 151, 152, 153, 158, 161, 162, 163, 164, 166, 170, 186, 194, 202, 209, 211, 224, 229, 230, 231, 232, 233, 234, 236, 237, 238, 239, 243, 244, 246, 249, 261, 262, 263]\n",
    "trips = trips.loc[trips[\"PULocationID\"].isin(manhattan_zones)]\n",
    "trips = trips.loc[trips[\"DOLocationID\"].isin(manhattan_zones)]\n"
   ]
  },
  {
   "cell_type": "code",
   "execution_count": 3,
   "id": "733596ae-d273-418d-8cc0-866a1f60894c",
   "metadata": {},
   "outputs": [],
   "source": [
    "# add tip percentage and buckets\n",
    "trips[\"tip_pct\"] = trips[\"tip_amount\"] / trips[\"total_amount\"]\n",
    "trips[\"tip_bin\"] = pd.cut(trips.tip_pct, \n",
    "                       bins = [0.0, 0.10, 0.2, 0.5, 1.0], \n",
    "                       labels = [0, 1, 2, 3], #0:\"[0%, 10%]\", 1:\"(10%, 20%]\", 2:\"(20%, 50%]\", 3:\"(50%, 100%]\"\n",
    "                       include_lowest = True)\n"
   ]
  },
  {
   "cell_type": "code",
   "execution_count": 4,
   "id": "dbd7c2e3-afd8-4330-ab9d-c5d573b7ac29",
   "metadata": {},
   "outputs": [],
   "source": [
    "# convert dates to integers for passing to PyTorch\n",
    "trips[\"PU_day_in_june_2021\"] = abs(pd.to_datetime(trips[\"tpep_pickup_datetime\"]) - pd.to_datetime('2021-06-01')).dt.days + 1\n",
    "trips[\"PU_time_hour\"] = pd.to_datetime(trips[\"tpep_pickup_datetime\"]).dt.hour\n",
    "trips[\"PU_time_min\"] = pd.to_datetime(trips[\"tpep_pickup_datetime\"]).dt.minute\n",
    "\n",
    "trips[\"DO_day_in_june_2021\"] = abs(pd.to_datetime(trips[\"tpep_dropoff_datetime\"]) - pd.to_datetime('2021-06-01')).dt.days + 1\n",
    "trips[\"DO_time_hour\"] = pd.to_datetime(trips[\"tpep_dropoff_datetime\"]).dt.hour\n",
    "trips[\"DO_time_min\"] = pd.to_datetime(trips[\"tpep_dropoff_datetime\"]).dt.minute\n"
   ]
  },
  {
   "cell_type": "code",
   "execution_count": 5,
   "id": "5c53f369-4b08-4a15-a6b1-b820278ebf27",
   "metadata": {},
   "outputs": [],
   "source": [
    "# add weather data\n",
    "trips['Date'] = pd.to_datetime(trips['tpep_pickup_datetime']).dt.date\n",
    "\n",
    "weather = pd.read_csv(\"https://raw.githubusercontent.com/weiangela/STAT453---Taxi-Prediction/main/Data/2021NYCWeather.csv\", \n",
    "                      parse_dates=[0],\n",
    "                      date_format='%Y-%m-%d',\n",
    "                      usecols = [0, 2, 5, 8, 11, 14, 16], \n",
    "                      dtype = {'avg_temp':'float64', \n",
    "                               'avg_dew_pt':'float64', \n",
    "                               'avg_humidity':'float64',\n",
    "                               'avg_wind_speed':'float64',\n",
    "                               'avg_pressure':'float64',\n",
    "                               'total_precipitation':'float64'})\n",
    "\n",
    "weather['Date'] = pd.to_datetime(weather['Date'], format='%m/%d/%y').dt.date\n",
    "\n",
    "trips = trips.join(weather.set_index('Date'), on = \"Date\")\n",
    "trips.drop([\"Date\", \"tpep_pickup_datetime\", \"tpep_dropoff_datetime\"], axis = 1, inplace = True)"
   ]
  },
  {
   "cell_type": "code",
   "execution_count": 6,
   "id": "4f23e599-f2da-4dfc-adf4-63c2aefafcab",
   "metadata": {},
   "outputs": [],
   "source": [
    "# convert VendorID, PULocationID, DOLocationID, RatecodeID, store_and_fwd_flag, payment_type, and tip_bin columns into onehot encoding for tensor model maniuplation\n",
    "# all other columns will be considered to be values and not representative variables\n",
    "\n",
    "trips = pd.get_dummies(trips, columns=['VendorID', 'PULocationID', 'DOLocationID', 'RatecodeID', 'store_and_fwd_flag', 'payment_type', 'tip_bin'], dtype = int)\n"
   ]
  },
  {
   "cell_type": "code",
   "execution_count": 7,
   "id": "6b7306ae-4a10-4c2b-9197-c55109b61999",
   "metadata": {},
   "outputs": [],
   "source": [
    "# write to parquet file\n",
    "trips.to_parquet('./Data/cleaned_taxi_data.parquet')"
   ]
  },
  {
   "cell_type": "code",
   "execution_count": 3,
   "id": "ff37e6df-1027-484f-8d9a-b1d0e6dca0cd",
   "metadata": {},
   "outputs": [],
   "source": [
    "# how to open parquet file\n",
    "import pyarrow.parquet as pq\n",
    "import torch\n",
    "import numpy as np\n",
    "temp = pq.read_table('./Data/cleaned_taxi_data.parquet')\n",
    "temp = temp.to_pandas()\n",
    "\n",
    "torch_temp = torch.tensor(temp.values)"
   ]
  }
 ],
 "metadata": {
  "kernelspec": {
   "display_name": "Python 3 (ipykernel)",
   "language": "python",
   "name": "python3"
  },
  "language_info": {
   "codemirror_mode": {
    "name": "ipython",
    "version": 3
   },
   "file_extension": ".py",
   "mimetype": "text/x-python",
   "name": "python",
   "nbconvert_exporter": "python",
   "pygments_lexer": "ipython3",
   "version": "3.11.5"
  }
 },
 "nbformat": 4,
 "nbformat_minor": 5
}
